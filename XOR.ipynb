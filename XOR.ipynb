{
 "cells": [
  {
   "cell_type": "markdown",
   "id": "fb3702f6",
   "metadata": {},
   "source": [
    "# XOR\n",
    "\n",
    "Implemento XOR assegnando pesi visti in classe, per vedere che effettivamente con un solo hidden layer riesco a separare il problema."
   ]
  },
  {
   "cell_type": "code",
   "execution_count": 36,
   "id": "cf85ca5d",
   "metadata": {},
   "outputs": [],
   "source": [
    "import torch\n",
    "import numpy as np"
   ]
  },
  {
   "cell_type": "code",
   "execution_count": 84,
   "id": "6ecdf845",
   "metadata": {},
   "outputs": [],
   "source": [
    "def my_theta(z):\n",
    "    y = (np.sign(z)+1)/2\n",
    "    return(y)\n",
    "\n",
    "def xor(x1,x2):\n",
    "    x = torch.tensor([1,x1,x2], dtype = torch.float).T\n",
    "    w1 = torch.tensor([[-20,30,-20],[-20,-20,30]], dtype = torch.float)\n",
    "    z1 = torch.matmul(w1,x)\n",
    "    bias = torch.tensor([1])\n",
    "    a = torch.cat((bias,my_theta(z1)),0)\n",
    "    w2 = torch.tensor([-10,20,20],dtype = torch.float)\n",
    "    z2 = torch.matmul(w2,a)\n",
    "    y = my_theta(z2)\n",
    "    return(y)"
   ]
  },
  {
   "cell_type": "code",
   "execution_count": 85,
   "id": "c1f2ec42",
   "metadata": {},
   "outputs": [
    {
     "name": "stdout",
     "output_type": "stream",
     "text": [
      "0  XOR  0  =  0\n",
      "0  XOR  1  =  1\n",
      "1  XOR  0  =  1\n",
      "1  XOR  1  =  0\n"
     ]
    }
   ],
   "source": [
    "lista = [0,1]\n",
    "for x1 in lista:\n",
    "    for x2 in lista:\n",
    "        y = xor(x1,x2)\n",
    "        print(x1,' XOR ',x2,' = ',int(y.item()))"
   ]
  }
 ],
 "metadata": {
  "kernelspec": {
   "display_name": "Python 3",
   "language": "python",
   "name": "python3"
  },
  "language_info": {
   "codemirror_mode": {
    "name": "ipython",
    "version": 3
   },
   "file_extension": ".py",
   "mimetype": "text/x-python",
   "name": "python",
   "nbconvert_exporter": "python",
   "pygments_lexer": "ipython3",
   "version": "3.9.2"
  }
 },
 "nbformat": 4,
 "nbformat_minor": 5
}
