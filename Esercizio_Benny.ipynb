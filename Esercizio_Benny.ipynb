{
 "cells": [
  {
   "cell_type": "markdown",
   "id": "703e444c",
   "metadata": {},
   "source": [
    "# Esercizio 1"
   ]
  },
  {
   "cell_type": "markdown",
   "id": "f02b5d41",
   "metadata": {},
   "source": [
    "## Testo\n",
    "\n",
    "Consideriamo una mole di gas perfetto monoatomico, che compie un ciclo descritto, nel piano V-p, dalle seguenti trasformazioni:\n",
    "* espansione adiabatica da A a B;\n",
    "* compressione isobara da B a C;\n",
    "* riscaldamento isocoro da C ad A.\n",
    "\n",
    "Un rudimentale grafico del ciclo è rappresentato qui sotto, dove abbiamo assunto $V_A=6$ m$^3$, $V_B=2V_A$ e $nRT=200J$.\n",
    "\n",
    "<img src=\"ciclo.jpg\" alt=\"Trasformazione nel piano V-p\" />"
   ]
  },
  {
   "cell_type": "markdown",
   "id": "ff9186bb",
   "metadata": {},
   "source": [
    "## Punto 1\n",
    "\n",
    "Vogliamo quindi ricavare il rendimento $\\eta$ di questo ciclo, che sappiamo essere definito come $$\\eta=\\frac{L}{Q_2}$$"
   ]
  },
  {
   "cell_type": "markdown",
   "id": "3d3fe0c1",
   "metadata": {},
   "source": [
    "Per fare questo occorre capire bene quello che succede in ciascun tratto. Come abbiamo visto insieme, possiamo dire le seguenti cose:\n",
    "* nell'espansione adiabatica, $Q=0$ e il lavoro (positivo, perché il volume aumenta) avviene a spese dell'energia interna: trattandosi di un gas perfetto, l'energia interna è funzione della sola temperatura, per cui si avrà $\\Delta T<0$;\n",
    "* nella compressione isobara, il lavoro sarà negativo (il volume diminuisce) e l'energia interna pure (nelle isobare, volume e temperatura sono direttamente proporzionali): quindi, siccome $\\Delta U = Q-L\\quad\\rightarrow\\quad Q=\\Delta U+L$, dovremo necessariamente avere $Q<0$;\n",
    "* nel riscaldamento isocoro, ovviamente avremo $\\Delta U>0$ e $L=0$, poiché la temperatura e la pressione sono direttamente proporzionali, mentre se il volume non cambia il lavoro è nullo. Quindi $\\Delta U=Q>0$\n",
    "\n",
    "Fatte queste considerazioni, possiamo dire che il lavoro totale sarà la somma del lavoro positivo svolto nell'espansione adiabatica e di quello negativo subito durante la compressione isobara; il calore prelevato $Q_2$ sarà semplicemente il calore assorbito durante il riscaldamento isocoro, mentre quello ceduto $Q_1$ sarà quello negativo, scambiato durante la compressione isobara. \n",
    "Per calcolare il rendimento $\\eta$, in ogni caso, sarà sufficiente calcolare solo due di queste quantità, essendo esse legate tra loro dal primo principio della termodinamica, applicato all'intero ciclo:\n",
    "$$\\Delta U =0\\qquad\\implies\\qquad Q_2-Q_1=L_{\\textrm{tot}}$$\n",
    "\n",
    "Fatta questa premessa, calcola $\\eta$."
   ]
  },
  {
   "cell_type": "markdown",
   "id": "6b1d8e80",
   "metadata": {},
   "source": [
    "## Punto 2\n",
    "\n",
    "Come ultimo punto, puoi verificare che il rendimento calcolato al punto precedente corrisponde effettivamente a quello visto insieme, nell'esercizio senza valori numerici, dove avevamo ricavato che\n",
    "$$\\eta=1-\\gamma\\frac{\\alpha -1}{\\alpha^{\\gamma}-1}$$\n",
    "dove, nel nostro caso, $V_A=6$, $\\alpha=2$, $\\gamma=5/3$, $n=1$."
   ]
  }
 ],
 "metadata": {
  "kernelspec": {
   "display_name": "Python 3",
   "language": "python",
   "name": "python3"
  },
  "language_info": {
   "codemirror_mode": {
    "name": "ipython",
    "version": 3
   },
   "file_extension": ".py",
   "mimetype": "text/x-python",
   "name": "python",
   "nbconvert_exporter": "python",
   "pygments_lexer": "ipython3",
   "version": "3.9.2"
  }
 },
 "nbformat": 4,
 "nbformat_minor": 5
}
