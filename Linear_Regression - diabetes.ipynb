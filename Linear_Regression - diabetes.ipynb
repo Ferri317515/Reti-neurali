{
 "cells": [
  {
   "cell_type": "markdown",
   "id": "0178b903",
   "metadata": {},
   "source": [
    "# Linear Regression"
   ]
  },
  {
   "cell_type": "code",
   "execution_count": 1,
   "id": "78ddd181",
   "metadata": {},
   "outputs": [
    {
     "name": "stdout",
     "output_type": "stream",
     "text": [
      "No Bottleneck unit testing available.\n"
     ]
    }
   ],
   "source": [
    "import numpy as np\n",
    "import pandas as pd\n",
    "import matplotlib.pyplot as plt\n",
    "from sklearn import datasets, linear_model\n",
    "from sklearn.metrics import mean_squared_error, r2_score"
   ]
  },
  {
   "cell_type": "markdown",
   "id": "42629fed",
   "metadata": {},
   "source": [
    "## Dataset"
   ]
  },
  {
   "cell_type": "markdown",
   "id": "5ebb98ff",
   "metadata": {},
   "source": [
    "Carico i dati e, su 200, ne assegno 150 al training set"
   ]
  },
  {
   "cell_type": "code",
   "execution_count": 2,
   "id": "6a9a8dcc",
   "metadata": {},
   "outputs": [],
   "source": [
    "number_examples = 200\n",
    "number_sample_train = 150\n",
    "diabetes = datasets.load_diabetes()\n",
    "X = diabetes.data[:number_examples]"
   ]
  },
  {
   "cell_type": "markdown",
   "id": "ad2a3877",
   "metadata": {},
   "source": [
    "## Mio algoritmo"
   ]
  },
  {
   "cell_type": "code",
   "execution_count": 18,
   "id": "e76ffed3",
   "metadata": {},
   "outputs": [],
   "source": [
    "# Funzioni per la regressione lineare\n",
    "\n",
    "# Calcola pseudoinversa con ridge regression\n",
    "\n",
    "def calcola_pseudo_inv(X,lambda_reg=0):\n",
    "    n = X.shape[1]\n",
    "    pseudo_inv = np.dot((np.linalg.inv(np.dot(X.T,X)+lambda_reg*np.identity(n))),X.T)  \n",
    "    return(pseudo_inv)\n",
    "\n",
    "def calcola_w_ML(X,y,lambda_reg=0):\n",
    "    A = calcola_pseudo_inv(X,lambda_reg)\n",
    "    w_ML = np.dot(A,y)\n",
    "    return(w_ML)\n",
    "\n",
    "def predict(X,w):           # regressione lineare, data la design matrix e vettore parametri\n",
    "    y_predict = np.dot(X,w)\n",
    "    return(y_predict)\n",
    "\n",
    "# errore con ridge regression\n",
    "\n",
    "def errore(y,y_predict,w,lambda_reg=0):\n",
    "    m = len(y)\n",
    "    diff = y-y_predict\n",
    "    err = (np.dot(diff.T,diff)+lambda_reg*np.dot(w.T,w))/m\n",
    "    return(err)"
   ]
  },
  {
   "cell_type": "code",
   "execution_count": 19,
   "id": "bcbb4fa7",
   "metadata": {},
   "outputs": [],
   "source": [
    "df = pd.DataFrame(data=X)       # uso pandas così maneggio facilmente il database\n",
    "df.insert(0,'x0',1)          # aggiungo una colonna di 1 per il peso relativo al bias\n",
    "Design_Matrix = df.to_numpy()\n",
    "y = diabetes.target[:number_examples]\n",
    "D_train, D_test = Design_Matrix[:number_sample_train], Design_Matrix[number_sample_train:]\n",
    "y_train, y_test = y[:number_sample_train], y[number_sample_train:]\n",
    "\n",
    "w_ML = calcola_w_ML(D_train,y_train)\n",
    "y_predict = predict(D_test,w_ML)\n",
    "err_T = errore(y_train,np.dot(D_train,w_ML),w_ML)\n",
    "err_g = errore(y_test,y_predict,w_ML)"
   ]
  },
  {
   "cell_type": "markdown",
   "id": "0b6f8397",
   "metadata": {},
   "source": [
    "## Sklearn Linear Regression"
   ]
  },
  {
   "cell_type": "code",
   "execution_count": 4,
   "id": "b61dfa7a",
   "metadata": {},
   "outputs": [],
   "source": [
    "diabetes_X_train, diabetes_X_test = X[:number_sample_train], X[number_sample_train:]\n",
    "diabetes_y_train, diabetes_y_test = y[:number_sample_train], y[number_sample_train:]\n",
    "\n",
    "regr = linear_model.LinearRegression()\n",
    "\n",
    "regr.fit(diabetes_X_train, diabetes_y_train)\n",
    "diabetes_y_pred = regr.predict(diabetes_X_test)"
   ]
  },
  {
   "cell_type": "markdown",
   "id": "15da7a41",
   "metadata": {},
   "source": [
    "## Confronto tra i risultati"
   ]
  },
  {
   "cell_type": "code",
   "execution_count": 15,
   "id": "7ee7a1a9",
   "metadata": {},
   "outputs": [
    {
     "name": "stdout",
     "output_type": "stream",
     "text": [
      "Coefficienti linear model sklearn: \n",
      " [ -67.3322587  -369.98803486  445.91969019  324.49756622   89.12828579\n",
      " -370.37260059 -263.56792004  123.19006966  579.0388831    89.90418524]\n",
      "\n",
      "Coefficienti mio algoritmo: \n",
      " [ 152.93805864  -67.3322587  -369.98803486  445.91969019  324.49756622\n",
      "   89.12828579 -370.37260059 -263.56792004  123.19006966  579.0388831\n",
      "   89.90418524]\n"
     ]
    }
   ],
   "source": [
    "print(\"Coefficienti linear model sklearn: \\n\", regr.coef_)\n",
    "print('')\n",
    "print('''Coefficienti mio algoritmo: \n",
    "''',w_ML)"
   ]
  },
  {
   "cell_type": "markdown",
   "id": "4514518c",
   "metadata": {},
   "source": [
    "## Confronto tra gli errori"
   ]
  },
  {
   "cell_type": "markdown",
   "id": "dde811da",
   "metadata": {},
   "source": [
    "### Sklearn"
   ]
  },
  {
   "cell_type": "code",
   "execution_count": 6,
   "id": "505db920",
   "metadata": {},
   "outputs": [
    {
     "name": "stdout",
     "output_type": "stream",
     "text": [
      "Mean squared error: 3161.05\n"
     ]
    }
   ],
   "source": [
    "# The mean squared error\n",
    "print(\"Mean squared error: %.2f\" % mean_squared_error(diabetes_y_test, diabetes_y_pred))"
   ]
  },
  {
   "cell_type": "markdown",
   "id": "34c520bf",
   "metadata": {},
   "source": [
    "### Mio algoritmo"
   ]
  },
  {
   "cell_type": "code",
   "execution_count": 14,
   "id": "9f47afc4",
   "metadata": {},
   "outputs": [
    {
     "name": "stdout",
     "output_type": "stream",
     "text": [
      "In sample error: 2662.08\n",
      "Out of sample error: 3161.05\n"
     ]
    }
   ],
   "source": [
    "print('In sample error: %.2f' %err_T)\n",
    "print('Out of sample error: %.2f' %err_g)"
   ]
  }
 ],
 "metadata": {
  "kernelspec": {
   "display_name": "Python 3",
   "language": "python",
   "name": "python3"
  },
  "language_info": {
   "codemirror_mode": {
    "name": "ipython",
    "version": 3
   },
   "file_extension": ".py",
   "mimetype": "text/x-python",
   "name": "python",
   "nbconvert_exporter": "python",
   "pygments_lexer": "ipython3",
   "version": "3.9.2"
  }
 },
 "nbformat": 4,
 "nbformat_minor": 5
}
